{
 "cells": [
  {
   "cell_type": "code",
   "execution_count": 1,
   "metadata": {},
   "outputs": [],
   "source": [
    "import torch\n",
    "import numpy as np"
   ]
  },
  {
   "cell_type": "code",
   "execution_count": 2,
   "metadata": {},
   "outputs": [],
   "source": [
    "step = 10e-11\n",
    "spectrum_s = 300e-9\n",
    "spectrum_e = 800e-9\n",
    "c = 3e8 \n",
    "lambda_0 = 550e-9\n",
    "alpha = 0.1\n",
    "wavelength_delta = 25e-9\n",
    "wavelength_step = round(wavelength_delta / step)\n",
    "num_wavelengths = [3, 6, 12]\n",
    "sigma_arr = [0.9e14, 2e14, 4.7e14]\n",
    "\n",
    "a = 12 * 10e-6\n",
    "n_steps = 1000\n",
    "start=-140e-6\n",
    "end=140e-6\n",
    "step_m = (end - start) / n_steps\n",
    "range_ = torch.linspace(start, end, steps=n_steps)\n",
    "x_range = range_.unsqueeze(0).t()\n",
    "y_range = range_.unsqueeze(0)"
   ]
  },
  {
   "cell_type": "code",
   "execution_count": 3,
   "metadata": {},
   "outputs": [],
   "source": [
    "z_range = [0.15e-2, 0.5e-2, 1e-2, 1.55e-2, 5.5e-2]\n",
    "x_1 = 140e-6 \n",
    "y_1 = 140e-6\n",
    "coherence_length_arr_3 = []\n",
    "coherence_length_arr_6 = []\n",
    "coherence_length_arr_12 = []\n",
    "for n, sigma in zip(num_wavelengths, sigma_arr):\n",
    "    wavelengths_intensity = []\n",
    "    wavelengths_val = []\n",
    "    lambda_arr = torch.arange(spectrum_s, spectrum_e, step)\n",
    "    const_1 = ((2 * np.pi * c) / (lambda_0))**2\n",
    "    const_2 = 2 * sigma ** 2\n",
    "    function_in_lambda = const_1 * (((lambda_0 - lambda_arr) / lambda_arr) ** 2) / const_2\n",
    "    exp_lambda = torch.exp(-1 * function_in_lambda)\n",
    "    max_exp_lambda = exp_lambda[torch.argmax(exp_lambda)]\n",
    "    k = -wavelength_step\n",
    "    while exp_lambda[len(lambda_arr) // 2 + k] > alpha * max_exp_lambda:\n",
    "        k -= wavelength_step\n",
    "    k += wavelength_step\n",
    "    for i in range(n):\n",
    "        wavelengths_intensity.append(exp_lambda[len(lambda_arr) // 2 + (k + wavelength_step * i)])\n",
    "        wavelengths_val.append(lambda_arr[len(lambda_arr) // 2 + (k + wavelength_step * i)])\n",
    "    wavelengths_intensity = torch.tensor(wavelengths_intensity)\n",
    "    normalize_intensity = wavelengths_intensity / torch.sum(wavelengths_intensity)\n",
    "    for z in z_range:\n",
    "        J_nominator = torch.zeros((x_range.shape[0], x_range.shape[0]), dtype=torch.complex64)\n",
    "        J_denominator = torch.zeros((x_range.shape[0], x_range.shape[0]), dtype=torch.complex64)\n",
    "        mu = torch.zeros((x_range.shape[0], x_range.shape[0]), dtype=torch.complex64)\n",
    "        for wavelength, norm_intens in zip(wavelengths_val, normalize_intensity):\n",
    "            arg_x = (a * x_range) / (wavelength * z)\n",
    "            arg_y = (a * y_range) / (wavelength * z)\n",
    "            psi = (np.pi / (wavelength * z)) * (((x_1+x_range)**2+(y_1+y_range)**2)-(x_1**2+y_1**2))\n",
    "            J_nominator += (torch.exp(-1j * psi) * (torch.special.sinc(arg_x) * torch.special.sinc(arg_y)) * norm_intens) / (wavelength*z)**2\n",
    "            J_denominator += norm_intens / (wavelength * z)**2\n",
    "        mu = J_nominator / J_denominator      \n",
    "        coherence_area = torch.sum(torch.abs(mu) ** 2) * (step_m**2)\n",
    "        coherence_length = torch.sqrt(coherence_area)  \n",
    "        if n==3:\n",
    "            coherence_length_arr_3.append(coherence_length.item())\n",
    "        if n==6:\n",
    "            coherence_length_arr_6.append(coherence_length.item())\n",
    "        elif n==12:\n",
    "            coherence_length_arr_12.append(coherence_length.item())"
   ]
  },
  {
   "cell_type": "code",
   "execution_count": 4,
   "metadata": {},
   "outputs": [
    {
     "name": "stdout",
     "output_type": "stream",
     "text": [
      "For x1 140.0 \\mu m, y1 140.0 \\mu m\n",
      "coherence_length_arr_3 [6.67482754579396, 22.113437808002345, 43.75648495624773, 66.88325811410323, 204.36935301404446]\n",
      "coherence_length_arr_6 [6.416744781745365, 21.36202783731278, 42.506017052801326, 65.31525286845863, 202.1526888711378]\n",
      "coherence_length_arr_12 [5.871146186109399, 19.614724806160666, 39.16808418580331, 60.4235683567822, 191.7638728627935]\n"
     ]
    }
   ],
   "source": [
    "c_l_a_3 = [x * 10**6 for x in coherence_length_arr_3]\n",
    "c_l_a_6 = [x * 10**6 for x in coherence_length_arr_6]\n",
    "c_l_a_12 = [x * 10**6 for x in coherence_length_arr_12]\n",
    "\n",
    "print(f\"For x1 {x_1*10**6} \\mu m, y1 {y_1*10**6} \\mu m\")\n",
    "print(\"coherence_length_arr_3\", c_l_a_3)\n",
    "print(\"coherence_length_arr_6\", c_l_a_6)\n",
    "print(\"coherence_length_arr_12\", c_l_a_12)"
   ]
  }
 ],
 "metadata": {
  "kernelspec": {
   "display_name": "AONN",
   "language": "python",
   "name": "python3"
  },
  "language_info": {
   "codemirror_mode": {
    "name": "ipython",
    "version": 3
   },
   "file_extension": ".py",
   "mimetype": "text/x-python",
   "name": "python",
   "nbconvert_exporter": "python",
   "pygments_lexer": "ipython3",
   "version": "3.8.19"
  },
  "orig_nbformat": 4,
  "vscode": {
   "interpreter": {
    "hash": "4d535b6fa5b90feaa6d6f2c9f9cd0b8dd536e7ec55c46f5b1b5a532db7b6a123"
   }
  }
 },
 "nbformat": 4,
 "nbformat_minor": 2
}
